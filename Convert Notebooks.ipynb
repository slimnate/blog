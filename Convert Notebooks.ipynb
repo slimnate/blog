{
 "cells": [
  {
   "cell_type": "code",
   "execution_count": 17,
   "metadata": {},
   "outputs": [
    {
     "name": "stdout",
     "output_type": "stream",
     "text": [
      "Requirement already satisfied: nbdev in /Users/slimnate/opt/anaconda3/lib/python3.7/site-packages (1.0.1)\n",
      "Requirement already satisfied: fastscript>=1.0.0 in /Users/slimnate/opt/anaconda3/lib/python3.7/site-packages (from nbdev) (1.0.0)\n",
      "Requirement already satisfied: pip in /Users/slimnate/opt/anaconda3/lib/python3.7/site-packages (from nbdev) (20.1.1)\n",
      "Requirement already satisfied: pyyaml in /Users/slimnate/opt/anaconda3/lib/python3.7/site-packages (from nbdev) (5.3.1)\n",
      "Requirement already satisfied: packaging in /Users/slimnate/opt/anaconda3/lib/python3.7/site-packages (from nbdev) (20.4)\n",
      "Requirement already satisfied: fastcore>=1.0.0 in /Users/slimnate/opt/anaconda3/lib/python3.7/site-packages (from nbdev) (1.0.0)\n",
      "Requirement already satisfied: nbformat>=4.4.0 in /Users/slimnate/opt/anaconda3/lib/python3.7/site-packages (from nbdev) (5.0.7)\n",
      "Requirement already satisfied: nbconvert>=5.6.1 in /Users/slimnate/opt/anaconda3/lib/python3.7/site-packages (from nbdev) (5.6.1)\n",
      "Requirement already satisfied: six in /Users/slimnate/opt/anaconda3/lib/python3.7/site-packages (from packaging->nbdev) (1.15.0)\n",
      "Requirement already satisfied: pyparsing>=2.0.2 in /Users/slimnate/opt/anaconda3/lib/python3.7/site-packages (from packaging->nbdev) (2.4.7)\n",
      "Requirement already satisfied: wheel in /Users/slimnate/opt/anaconda3/lib/python3.7/site-packages (from fastcore>=1.0.0->nbdev) (0.34.2)\n",
      "Requirement already satisfied: dataclasses in /Users/slimnate/opt/anaconda3/lib/python3.7/site-packages (from fastcore>=1.0.0->nbdev) (0.6)\n",
      "Requirement already satisfied: numpy in /Users/slimnate/opt/anaconda3/lib/python3.7/site-packages (from fastcore>=1.0.0->nbdev) (1.18.5)\n",
      "Requirement already satisfied: jsonschema!=2.5.0,>=2.4 in /Users/slimnate/opt/anaconda3/lib/python3.7/site-packages (from nbformat>=4.4.0->nbdev) (3.2.0)\n",
      "Requirement already satisfied: ipython-genutils in /Users/slimnate/opt/anaconda3/lib/python3.7/site-packages (from nbformat>=4.4.0->nbdev) (0.2.0)\n",
      "Requirement already satisfied: traitlets>=4.1 in /Users/slimnate/opt/anaconda3/lib/python3.7/site-packages (from nbformat>=4.4.0->nbdev) (4.3.3)\n",
      "Requirement already satisfied: jupyter-core in /Users/slimnate/opt/anaconda3/lib/python3.7/site-packages (from nbformat>=4.4.0->nbdev) (4.6.3)\n",
      "Requirement already satisfied: entrypoints>=0.2.2 in /Users/slimnate/opt/anaconda3/lib/python3.7/site-packages (from nbconvert>=5.6.1->nbdev) (0.3)\n",
      "Requirement already satisfied: pandocfilters>=1.4.1 in /Users/slimnate/opt/anaconda3/lib/python3.7/site-packages (from nbconvert>=5.6.1->nbdev) (1.4.2)\n",
      "Requirement already satisfied: bleach in /Users/slimnate/opt/anaconda3/lib/python3.7/site-packages (from nbconvert>=5.6.1->nbdev) (3.1.5)\n",
      "Requirement already satisfied: testpath in /Users/slimnate/opt/anaconda3/lib/python3.7/site-packages (from nbconvert>=5.6.1->nbdev) (0.4.4)\n",
      "Requirement already satisfied: jinja2>=2.4 in /Users/slimnate/opt/anaconda3/lib/python3.7/site-packages (from nbconvert>=5.6.1->nbdev) (2.11.2)\n",
      "Requirement already satisfied: pygments in /Users/slimnate/opt/anaconda3/lib/python3.7/site-packages (from nbconvert>=5.6.1->nbdev) (2.6.1)\n",
      "Requirement already satisfied: defusedxml in /Users/slimnate/opt/anaconda3/lib/python3.7/site-packages (from nbconvert>=5.6.1->nbdev) (0.6.0)\n",
      "Requirement already satisfied: mistune<2,>=0.8.1 in /Users/slimnate/opt/anaconda3/lib/python3.7/site-packages (from nbconvert>=5.6.1->nbdev) (0.8.4)\n",
      "Requirement already satisfied: setuptools in /Users/slimnate/opt/anaconda3/lib/python3.7/site-packages (from jsonschema!=2.5.0,>=2.4->nbformat>=4.4.0->nbdev) (49.2.0.post20200714)\n",
      "Requirement already satisfied: attrs>=17.4.0 in /Users/slimnate/opt/anaconda3/lib/python3.7/site-packages (from jsonschema!=2.5.0,>=2.4->nbformat>=4.4.0->nbdev) (19.3.0)\n",
      "Requirement already satisfied: importlib-metadata; python_version < \"3.8\" in /Users/slimnate/opt/anaconda3/lib/python3.7/site-packages (from jsonschema!=2.5.0,>=2.4->nbformat>=4.4.0->nbdev) (1.7.0)\n",
      "Requirement already satisfied: pyrsistent>=0.14.0 in /Users/slimnate/opt/anaconda3/lib/python3.7/site-packages (from jsonschema!=2.5.0,>=2.4->nbformat>=4.4.0->nbdev) (0.16.0)\n",
      "Requirement already satisfied: decorator in /Users/slimnate/opt/anaconda3/lib/python3.7/site-packages (from traitlets>=4.1->nbformat>=4.4.0->nbdev) (4.4.2)\n",
      "Requirement already satisfied: webencodings in /Users/slimnate/opt/anaconda3/lib/python3.7/site-packages (from bleach->nbconvert>=5.6.1->nbdev) (0.5.1)\n",
      "Requirement already satisfied: MarkupSafe>=0.23 in /Users/slimnate/opt/anaconda3/lib/python3.7/site-packages (from jinja2>=2.4->nbconvert>=5.6.1->nbdev) (1.1.1)\n",
      "Requirement already satisfied: zipp>=0.5 in /Users/slimnate/opt/anaconda3/lib/python3.7/site-packages (from importlib-metadata; python_version < \"3.8\"->jsonschema!=2.5.0,>=2.4->nbformat>=4.4.0->nbdev) (3.1.0)\n",
      "Collecting ipyfilechooser\n",
      "  Downloading ipyfilechooser-0.3.5-py3-none-any.whl (7.7 kB)\n",
      "Requirement already satisfied: ipywidgets in /Users/slimnate/opt/anaconda3/lib/python3.7/site-packages (from ipyfilechooser) (7.5.1)\n",
      "Requirement already satisfied: widgetsnbextension~=3.5.0 in /Users/slimnate/opt/anaconda3/lib/python3.7/site-packages (from ipywidgets->ipyfilechooser) (3.5.1)\n",
      "Requirement already satisfied: ipykernel>=4.5.1 in /Users/slimnate/opt/anaconda3/lib/python3.7/site-packages (from ipywidgets->ipyfilechooser) (5.3.2)\n",
      "Requirement already satisfied: ipython>=4.0.0; python_version >= \"3.3\" in /Users/slimnate/opt/anaconda3/lib/python3.7/site-packages (from ipywidgets->ipyfilechooser) (7.16.1)\n",
      "Requirement already satisfied: nbformat>=4.2.0 in /Users/slimnate/opt/anaconda3/lib/python3.7/site-packages (from ipywidgets->ipyfilechooser) (5.0.7)\n",
      "Requirement already satisfied: traitlets>=4.3.1 in /Users/slimnate/opt/anaconda3/lib/python3.7/site-packages (from ipywidgets->ipyfilechooser) (4.3.3)\n",
      "Requirement already satisfied: notebook>=4.4.1 in /Users/slimnate/opt/anaconda3/lib/python3.7/site-packages (from widgetsnbextension~=3.5.0->ipywidgets->ipyfilechooser) (6.0.3)\n",
      "Requirement already satisfied: jupyter-client in /Users/slimnate/opt/anaconda3/lib/python3.7/site-packages (from ipykernel>=4.5.1->ipywidgets->ipyfilechooser) (6.1.6)\n",
      "Requirement already satisfied: appnope; platform_system == \"Darwin\" in /Users/slimnate/opt/anaconda3/lib/python3.7/site-packages (from ipykernel>=4.5.1->ipywidgets->ipyfilechooser) (0.1.0)\n",
      "Requirement already satisfied: tornado>=4.2 in /Users/slimnate/opt/anaconda3/lib/python3.7/site-packages (from ipykernel>=4.5.1->ipywidgets->ipyfilechooser) (6.0.4)\n",
      "Requirement already satisfied: backcall in /Users/slimnate/opt/anaconda3/lib/python3.7/site-packages (from ipython>=4.0.0; python_version >= \"3.3\"->ipywidgets->ipyfilechooser) (0.2.0)\n",
      "Requirement already satisfied: setuptools>=18.5 in /Users/slimnate/opt/anaconda3/lib/python3.7/site-packages (from ipython>=4.0.0; python_version >= \"3.3\"->ipywidgets->ipyfilechooser) (49.2.0.post20200714)\n",
      "Requirement already satisfied: prompt-toolkit!=3.0.0,!=3.0.1,<3.1.0,>=2.0.0 in /Users/slimnate/opt/anaconda3/lib/python3.7/site-packages (from ipython>=4.0.0; python_version >= \"3.3\"->ipywidgets->ipyfilechooser) (3.0.5)\n",
      "Requirement already satisfied: decorator in /Users/slimnate/opt/anaconda3/lib/python3.7/site-packages (from ipython>=4.0.0; python_version >= \"3.3\"->ipywidgets->ipyfilechooser) (4.4.2)\n",
      "Requirement already satisfied: pickleshare in /Users/slimnate/opt/anaconda3/lib/python3.7/site-packages (from ipython>=4.0.0; python_version >= \"3.3\"->ipywidgets->ipyfilechooser) (0.7.5)\n",
      "Requirement already satisfied: pexpect; sys_platform != \"win32\" in /Users/slimnate/opt/anaconda3/lib/python3.7/site-packages (from ipython>=4.0.0; python_version >= \"3.3\"->ipywidgets->ipyfilechooser) (4.8.0)\n",
      "Requirement already satisfied: pygments in /Users/slimnate/opt/anaconda3/lib/python3.7/site-packages (from ipython>=4.0.0; python_version >= \"3.3\"->ipywidgets->ipyfilechooser) (2.6.1)\n",
      "Requirement already satisfied: jedi>=0.10 in /Users/slimnate/opt/anaconda3/lib/python3.7/site-packages (from ipython>=4.0.0; python_version >= \"3.3\"->ipywidgets->ipyfilechooser) (0.17.1)\n",
      "Requirement already satisfied: jupyter-core in /Users/slimnate/opt/anaconda3/lib/python3.7/site-packages (from nbformat>=4.2.0->ipywidgets->ipyfilechooser) (4.6.3)\n",
      "Requirement already satisfied: ipython-genutils in /Users/slimnate/opt/anaconda3/lib/python3.7/site-packages (from nbformat>=4.2.0->ipywidgets->ipyfilechooser) (0.2.0)\n",
      "Requirement already satisfied: jsonschema!=2.5.0,>=2.4 in /Users/slimnate/opt/anaconda3/lib/python3.7/site-packages (from nbformat>=4.2.0->ipywidgets->ipyfilechooser) (3.2.0)\n",
      "Requirement already satisfied: six in /Users/slimnate/opt/anaconda3/lib/python3.7/site-packages (from traitlets>=4.3.1->ipywidgets->ipyfilechooser) (1.15.0)\n",
      "Requirement already satisfied: jinja2 in /Users/slimnate/opt/anaconda3/lib/python3.7/site-packages (from notebook>=4.4.1->widgetsnbextension~=3.5.0->ipywidgets->ipyfilechooser) (2.11.2)\n",
      "Requirement already satisfied: prometheus-client in /Users/slimnate/opt/anaconda3/lib/python3.7/site-packages (from notebook>=4.4.1->widgetsnbextension~=3.5.0->ipywidgets->ipyfilechooser) (0.8.0)\n",
      "Requirement already satisfied: nbconvert in /Users/slimnate/opt/anaconda3/lib/python3.7/site-packages (from notebook>=4.4.1->widgetsnbextension~=3.5.0->ipywidgets->ipyfilechooser) (5.6.1)\n"
     ]
    },
    {
     "name": "stdout",
     "output_type": "stream",
     "text": [
      "Requirement already satisfied: Send2Trash in /Users/slimnate/opt/anaconda3/lib/python3.7/site-packages (from notebook>=4.4.1->widgetsnbextension~=3.5.0->ipywidgets->ipyfilechooser) (1.5.0)\n",
      "Requirement already satisfied: pyzmq>=17 in /Users/slimnate/opt/anaconda3/lib/python3.7/site-packages (from notebook>=4.4.1->widgetsnbextension~=3.5.0->ipywidgets->ipyfilechooser) (19.0.1)\n",
      "Requirement already satisfied: terminado>=0.8.1 in /Users/slimnate/opt/anaconda3/lib/python3.7/site-packages (from notebook>=4.4.1->widgetsnbextension~=3.5.0->ipywidgets->ipyfilechooser) (0.8.3)\n",
      "Requirement already satisfied: python-dateutil>=2.1 in /Users/slimnate/opt/anaconda3/lib/python3.7/site-packages (from jupyter-client->ipykernel>=4.5.1->ipywidgets->ipyfilechooser) (2.8.1)\n",
      "Requirement already satisfied: wcwidth in /Users/slimnate/opt/anaconda3/lib/python3.7/site-packages (from prompt-toolkit!=3.0.0,!=3.0.1,<3.1.0,>=2.0.0->ipython>=4.0.0; python_version >= \"3.3\"->ipywidgets->ipyfilechooser) (0.2.5)\n",
      "Requirement already satisfied: ptyprocess>=0.5 in /Users/slimnate/opt/anaconda3/lib/python3.7/site-packages (from pexpect; sys_platform != \"win32\"->ipython>=4.0.0; python_version >= \"3.3\"->ipywidgets->ipyfilechooser) (0.6.0)\n",
      "Requirement already satisfied: parso<0.8.0,>=0.7.0 in /Users/slimnate/opt/anaconda3/lib/python3.7/site-packages (from jedi>=0.10->ipython>=4.0.0; python_version >= \"3.3\"->ipywidgets->ipyfilechooser) (0.7.0)\n",
      "Requirement already satisfied: attrs>=17.4.0 in /Users/slimnate/opt/anaconda3/lib/python3.7/site-packages (from jsonschema!=2.5.0,>=2.4->nbformat>=4.2.0->ipywidgets->ipyfilechooser) (19.3.0)\n",
      "Requirement already satisfied: importlib-metadata; python_version < \"3.8\" in /Users/slimnate/opt/anaconda3/lib/python3.7/site-packages (from jsonschema!=2.5.0,>=2.4->nbformat>=4.2.0->ipywidgets->ipyfilechooser) (1.7.0)\n",
      "Requirement already satisfied: pyrsistent>=0.14.0 in /Users/slimnate/opt/anaconda3/lib/python3.7/site-packages (from jsonschema!=2.5.0,>=2.4->nbformat>=4.2.0->ipywidgets->ipyfilechooser) (0.16.0)\n",
      "Requirement already satisfied: MarkupSafe>=0.23 in /Users/slimnate/opt/anaconda3/lib/python3.7/site-packages (from jinja2->notebook>=4.4.1->widgetsnbextension~=3.5.0->ipywidgets->ipyfilechooser) (1.1.1)\n",
      "Requirement already satisfied: entrypoints>=0.2.2 in /Users/slimnate/opt/anaconda3/lib/python3.7/site-packages (from nbconvert->notebook>=4.4.1->widgetsnbextension~=3.5.0->ipywidgets->ipyfilechooser) (0.3)\n",
      "Requirement already satisfied: defusedxml in /Users/slimnate/opt/anaconda3/lib/python3.7/site-packages (from nbconvert->notebook>=4.4.1->widgetsnbextension~=3.5.0->ipywidgets->ipyfilechooser) (0.6.0)\n",
      "Requirement already satisfied: testpath in /Users/slimnate/opt/anaconda3/lib/python3.7/site-packages (from nbconvert->notebook>=4.4.1->widgetsnbextension~=3.5.0->ipywidgets->ipyfilechooser) (0.4.4)\n",
      "Requirement already satisfied: pandocfilters>=1.4.1 in /Users/slimnate/opt/anaconda3/lib/python3.7/site-packages (from nbconvert->notebook>=4.4.1->widgetsnbextension~=3.5.0->ipywidgets->ipyfilechooser) (1.4.2)\n",
      "Requirement already satisfied: mistune<2,>=0.8.1 in /Users/slimnate/opt/anaconda3/lib/python3.7/site-packages (from nbconvert->notebook>=4.4.1->widgetsnbextension~=3.5.0->ipywidgets->ipyfilechooser) (0.8.4)\n",
      "Requirement already satisfied: bleach in /Users/slimnate/opt/anaconda3/lib/python3.7/site-packages (from nbconvert->notebook>=4.4.1->widgetsnbextension~=3.5.0->ipywidgets->ipyfilechooser) (3.1.5)\n",
      "Requirement already satisfied: zipp>=0.5 in /Users/slimnate/opt/anaconda3/lib/python3.7/site-packages (from importlib-metadata; python_version < \"3.8\"->jsonschema!=2.5.0,>=2.4->nbformat>=4.2.0->ipywidgets->ipyfilechooser) (3.1.0)\n",
      "Requirement already satisfied: packaging in /Users/slimnate/opt/anaconda3/lib/python3.7/site-packages (from bleach->nbconvert->notebook>=4.4.1->widgetsnbextension~=3.5.0->ipywidgets->ipyfilechooser) (20.4)\n",
      "Requirement already satisfied: webencodings in /Users/slimnate/opt/anaconda3/lib/python3.7/site-packages (from bleach->nbconvert->notebook>=4.4.1->widgetsnbextension~=3.5.0->ipywidgets->ipyfilechooser) (0.5.1)\n",
      "Requirement already satisfied: pyparsing>=2.0.2 in /Users/slimnate/opt/anaconda3/lib/python3.7/site-packages (from packaging->bleach->nbconvert->notebook>=4.4.1->widgetsnbextension~=3.5.0->ipywidgets->ipyfilechooser) (2.4.7)\n",
      "Installing collected packages: ipyfilechooser\n",
      "Successfully installed ipyfilechooser-0.3.5\n"
     ]
    }
   ],
   "source": [
    "!pip install nbdev\n",
    "!pip install ipyfilechooser"
   ]
  },
  {
   "cell_type": "code",
   "execution_count": 18,
   "metadata": {},
   "outputs": [],
   "source": [
    "import os\n",
    "import nbdev\n",
    "from ipyfilechooser import FileChooser\n",
    "\n",
    "cwd = os.getcwd()\n",
    "#cwd.ls()"
   ]
  },
  {
   "cell_type": "code",
   "execution_count": 19,
   "metadata": {},
   "outputs": [],
   "source": [
    "fc = FileChooser(os.getcwd())"
   ]
  },
  {
   "cell_type": "code",
   "execution_count": 20,
   "metadata": {},
   "outputs": [
    {
     "data": {
      "application/vnd.jupyter.widget-view+json": {
       "model_id": "371b54072a634763a4766260137e886e",
       "version_major": 2,
       "version_minor": 0
      },
      "text/plain": [
       "FileChooser(path='/Users/slimnate/dev/blog', filename='', title='HTML(value='', layout=Layout(display='none'))…"
      ]
     },
     "metadata": {},
     "output_type": "display_data"
    }
   ],
   "source": [
    "display(fc)"
   ]
  },
  {
   "cell_type": "code",
   "execution_count": 22,
   "metadata": {},
   "outputs": [],
   "source": [
    "f = fc.selected"
   ]
  },
  {
   "cell_type": "code",
   "execution_count": 26,
   "metadata": {},
   "outputs": [],
   "source": [
    "from nbdev.cli import *"
   ]
  },
  {
   "cell_type": "code",
   "execution_count": 27,
   "metadata": {},
   "outputs": [
    {
     "data": {
      "text/plain": [
       "<function nbdev.cli.nbdev_nb2md(fname: <fastscript.core.Param object at 0x118abd550>, dest: <fastscript.core.Param object at 0x118abd290> = '.', img_path: <fastscript.core.Param object at 0x118abd350> = '', jekyll: <fastscript.core.Param object at 0x118abd390> = False)>"
      ]
     },
     "execution_count": 27,
     "metadata": {},
     "output_type": "execute_result"
    }
   ],
   "source": [
    "nbdev_nb2md"
   ]
  }
 ],
 "metadata": {
  "kernelspec": {
   "display_name": "Python 3",
   "language": "python",
   "name": "python3"
  },
  "language_info": {
   "codemirror_mode": {
    "name": "ipython",
    "version": 3
   },
   "file_extension": ".py",
   "mimetype": "text/x-python",
   "name": "python",
   "nbconvert_exporter": "python",
   "pygments_lexer": "ipython3",
   "version": "3.7.7"
  }
 },
 "nbformat": 4,
 "nbformat_minor": 4
}
